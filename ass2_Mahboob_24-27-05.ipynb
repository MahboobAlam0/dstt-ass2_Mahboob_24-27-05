{
 "cells": [
  {
   "cell_type": "markdown",
   "metadata": {},
   "source": [
    "## Q1 ##"
   ]
  },
  {
   "cell_type": "code",
   "execution_count": 1,
   "metadata": {},
   "outputs": [],
   "source": [
    "import numpy as np"
   ]
  },
  {
   "cell_type": "code",
   "execution_count": 17,
   "metadata": {},
   "outputs": [
    {
     "name": "stdout",
     "output_type": "stream",
     "text": [
      "Var1: [ 0  1  2  3  4  5  6  7  8  9 10 11 12 13 14 15 16 17 18 19 20 21 22 23\n",
      " 24 25 26 27 28 29]\n",
      "Var1 shape: (30,)\n"
     ]
    }
   ],
   "source": [
    "\"\"\"\n",
    "a) Create a variable named var1 that stores an array of numbers from 0 to 30,\n",
    "inclusive. Print var1 and its shape. Hint : arange \n",
    "\"\"\"\n",
    "var1 = np.arange(30)\n",
    "print(\"Var1:\",var1)\n",
    "print(\"Var1 shape:\",var1.shape)"
   ]
  },
  {
   "cell_type": "code",
   "execution_count": 31,
   "metadata": {},
   "outputs": [
    {
     "name": "stdout",
     "output_type": "stream",
     "text": [
      "Var2:  [[ 0  1  2  3  4  5]\n",
      " [ 6  7  8  9 10 11]\n",
      " [12 13 14 15 16 17]\n",
      " [18 19 20 21 22 23]\n",
      " [24 25 26 27 28 29]]\n",
      "\n",
      " Var2 shape: (5, 6)\n"
     ]
    }
   ],
   "source": [
    "\"\"\"\n",
    "b) Change var2 to a validly-shaped two-dimensional matrix and store it in a\n",
    "new variable called var2. Print var2 and its shape. Hint: Use the reshape function\n",
    "\"\"\"\n",
    "var2 = np.reshape(var1, (5,6))\n",
    "print(\"Var2: \",var2)\n",
    "print(\"\\n Var2 shape:\",var2.shape)"
   ]
  },
  {
   "cell_type": "code",
   "execution_count": 43,
   "metadata": {},
   "outputs": [
    {
     "name": "stdout",
     "output_type": "stream",
     "text": [
      "Var3:  [[[ 0  1]\n",
      "  [ 2  3]\n",
      "  [ 4  5]\n",
      "  [ 6  7]\n",
      "  [ 8  9]]\n",
      "\n",
      " [[10 11]\n",
      "  [12 13]\n",
      "  [14 15]\n",
      "  [16 17]\n",
      "  [18 19]]\n",
      "\n",
      " [[20 21]\n",
      "  [22 23]\n",
      "  [24 25]\n",
      "  [26 27]\n",
      "  [28 29]]]\n"
     ]
    }
   ],
   "source": [
    "\"\"\"\n",
    "c) Create a third variable, var3 that reshapes it into a valid three-dimensional shape.\n",
    "Print var3 and its shape.\n",
    "\"\"\"\n",
    "var3 = np.reshape(var2, (3, 5,2))\n",
    "print(\"Var3: \",var3)\n"
   ]
  },
  {
   "cell_type": "code",
   "execution_count": 51,
   "metadata": {},
   "outputs": [
    {
     "name": "stdout",
     "output_type": "stream",
     "text": [
      "Var1:  [ 0  1  2  3  4  5 -1  7  8  9 10 11 12 13 14 15 16 17 18 19 20 21 22 23\n",
      " 24 25 26 27 28 29]\n",
      "Var3:  [[[ 0  1]\n",
      "  [ 2  3]\n",
      "  [ 4  5]\n",
      "  [-1  7]\n",
      "  [ 8  9]]\n",
      "\n",
      " [[10 11]\n",
      "  [12 13]\n",
      "  [14 15]\n",
      "  [16 17]\n",
      "  [18 19]]\n",
      "\n",
      " [[20 21]\n",
      "  [22 23]\n",
      "  [24 25]\n",
      "  [26 27]\n",
      "  [28 29]]]\n",
      "Yes, var1 and var3 changed.\n"
     ]
    }
   ],
   "source": [
    "\"\"\"\n",
    "d) Use two-dimensional array indexing to set the first value in the second row of var2 to -1. Now look at var1 and var3. Did they change? Explain what’s\n",
    "going on. (Hint: does reshape return a view or a copy?)\n",
    "\"\"\"\n",
    "var2[1, 0] = -1\n",
    "print(\"Var1: \",var1)\n",
    "print(\"Var3: \",var3)\n",
    "print(\"Yes, var1 and var3 changed.\")"
   ]
  },
  {
   "cell_type": "code",
   "execution_count": 49,
   "metadata": {},
   "outputs": [
    {
     "name": "stdout",
     "output_type": "stream",
     "text": [
      "Var3 over its second dimension:  [[ 20  25]\n",
      " [ 70  75]\n",
      " [120 125]]\n",
      "Var3 over its third dimension:  [[ 1  5  9 13 17]\n",
      " [21 25 29 33 37]\n",
      " [41 45 49 53 57]]\n",
      "Var3 over its first and third dimension:  [ 63  75  87  99 111]\n"
     ]
    }
   ],
   "source": [
    "\"\"\"\n",
    "e) Another thing that comes up a lot with array shapes is thinking about how to\n",
    "aggregate over specific dimensions. Figure out how the NumPy sum function\n",
    "works (and the axis argument in particular) and do the following:\n",
    "(i) Sum var3 over its second dimension and print the result.\n",
    "(ii) Sum var3 over its third dimension and print the result.\n",
    "(iii) Sum var3 over both its first and third dimensions and print the result.\n",
    "\"\"\"\n",
    "var3 = np.reshape(var1, (3, 5,2))\n",
    "print(\"Var3 over its second dimension: \",np.sum(var3, axis=1))\n",
    "print(\"Var3 over its third dimension: \",np.sum(var3, axis=2))\n",
    "print(\"Var3 over its first and third dimension: \",np.sum(var3, axis=(0, 2)))"
   ]
  },
  {
   "cell_type": "code",
   "execution_count": 54,
   "metadata": {},
   "outputs": [
    {
     "name": "stdout",
     "output_type": "stream",
     "text": [
      "var2:  [[ 0  1  2  3  4  5]\n",
      " [-1  7  8  9 10 11]\n",
      " [12 13 14 15 16 17]\n",
      " [18 19 20 21 22 23]\n",
      " [24 25 26 27 28 29]]\n",
      "\n",
      "Slice out the second row of var2:  [-1  7  8  9 10 11]\n",
      "\n",
      "Slice out the last column of var2 using the -1 notation [ 5 11 17 23 29]\n",
      "\n",
      "Slice out the top right 2 × 2 submatrix of var2 [[22 23]\n",
      " [28 29]]\n"
     ]
    }
   ],
   "source": [
    "\"\"\"\n",
    "f) Write code to do the following:\n",
    "(i) Slice out the second row of var2 and print it.\n",
    "(ii) Slice out the last column of var2 using the -1 notation and print it.\n",
    "(iii) Slice out the top right 2 × 2 submatrix of var2 and print it.\n",
    "\"\"\"\n",
    "print(\"var2: \",var2)\n",
    "print(\"\\nSlice out the second row of var2: \",var2[1])\n",
    "print(\"\\nSlice out the last column of var2 using the -1 notation\",var2[:, -1])\n",
    "print(\"\\nSlice out the top right 2 × 2 submatrix of var2\",var2[-2:, -2:])"
   ]
  },
  {
   "cell_type": "markdown",
   "metadata": {},
   "source": [
    "## Q2 ##"
   ]
  },
  {
   "cell_type": "code",
   "execution_count": 55,
   "metadata": {},
   "outputs": [
    {
     "name": "stdout",
     "output_type": "stream",
     "text": [
      "Orginal Matrix:  [0 1 2 3 4 5 6 7 8 9]\n",
      "Matrix after adding 1 to it:  [ 1  2  3  4  5  6  7  8  9 10]\n"
     ]
    }
   ],
   "source": [
    "\"\"\"\n",
    "a) The most basic kind of broadcast is with a scalar, in which you can perform a binary operation (e.g., add, multiply, ...) on an array and a scalar, the effect is to perform that operation with the scalar for every element of the array. To try this out, create a vector 1, 2, . . . , 10 by adding 1 to the result of the arange function.\"\"\"\n",
    "\n",
    "matrix = np.arange(10)\n",
    "print(\"Orginal Matrix: \",matrix)\n",
    "matrix = matrix + 1\n",
    "print(\"Matrix after adding 1 to it: \",matrix)"
   ]
  },
  {
   "cell_type": "code",
   "execution_count": 58,
   "metadata": {},
   "outputs": [
    {
     "name": "stdout",
     "output_type": "stream",
     "text": [
      "10 × 10 matrix: \n",
      " [[ 2  3  4  5  6  7  8  9 10 11]\n",
      " [ 3  4  5  6  7  8  9 10 11 12]\n",
      " [ 4  5  6  7  8  9 10 11 12 13]\n",
      " [ 5  6  7  8  9 10 11 12 13 14]\n",
      " [ 6  7  8  9 10 11 12 13 14 15]\n",
      " [ 7  8  9 10 11 12 13 14 15 16]\n",
      " [ 8  9 10 11 12 13 14 15 16 17]\n",
      " [ 9 10 11 12 13 14 15 16 17 18]\n",
      " [10 11 12 13 14 15 16 17 18 19]\n",
      " [11 12 13 14 15 16 17 18 19 20]]\n"
     ]
    }
   ],
   "source": [
    "\"\"\"\n",
    "b) Now, create a 10 × 10 matrix A in which Ai j = i + j. You’ll be able to do this using the vector you just created, and adding it to a reshaped version of itself.\n",
    "\"\"\"\n",
    "matrix1 = np.arange(10) + 1\n",
    "matrix2 = np.arange(10) + 1\n",
    "matrix2 = matrix2.reshape(10, 1)\n",
    "matrix3 = matrix1 + matrix2\n",
    "print(\"10 × 10 matrix: \\n\",matrix3)"
   ]
  },
  {
   "cell_type": "code",
   "execution_count": 60,
   "metadata": {},
   "outputs": [
    {
     "name": "stdout",
     "output_type": "stream",
     "text": [
      "Mean -  [1.90245713 1.60218154 3.23692414 1.08459188 1.71497841]\n",
      "Standard Deviation =  [ 3.47983759  1.51561131 10.71023417  1.47130395  1.4391998 ]\n"
     ]
    }
   ],
   "source": [
    "\"\"\"\n",
    "c) A very common use of broadcasting is to standardize data, i.e., to make it have zero mean and unit variance. First, create a fake “data set” with 50 examples, each with five dimensions.\n",
    "import numpy.random as npr\n",
    "data = np.exp(npr.randn ( 50 , 5 ) )\n",
    "\"\"\"\n",
    "import numpy.random as npr\n",
    "data = np.exp(npr.randn(50, 5))\n",
    "mean = data.mean(axis=0)\n",
    "std = data.std(axis=0)\n",
    "print(\"Mean - \", mean)\n",
    "print(\"Standard Deviation = \", std) "
   ]
  },
  {
   "cell_type": "code",
   "execution_count": 62,
   "metadata": {},
   "outputs": [
    {
     "name": "stdout",
     "output_type": "stream",
     "text": [
      "Normalized mean =  [-1.59872116e-16 -2.63747357e-16 -1.44328993e-17  8.43769499e-17\n",
      "  3.99680289e-17]\n",
      "Normalized Standard deviation =  [1. 1. 1. 1. 1.]\n",
      "\n",
      " The mean of normalized data is not exactly zero due to limitation of floating-point arithmetic, but is very close to zero\n"
     ]
    }
   ],
   "source": [
    "\"\"\"\n",
    "d) You don’t worry too much about what this code is doing at this stage of the course, but for completeness: it imports the NumPy random number generation library, then generates a 50 × 5 matrix of standard normal\n",
    "M.Tech. Data Science and Modelling & Simulation Submission by: 10 – 10 - 2024\n",
    "P a g e 2 | 2 random variates and exponentiates them. The effect of this is to have a pretend data set of 50 independent and identically-distributed vectors from a log-normal distribution.\n",
    "\"\"\"\n",
    "normalized  = (data-mean)/std\n",
    "print(\"Normalized mean = \", normalized.mean(axis=0))\n",
    "print(\"Normalized Standard deviation = \", normalized.std(axis=0))\n",
    "\n",
    "print(\"\\n The mean of normalized data is not exactly zero due to limitation of floating-point arithmetic, but is very close to zero\")"
   ]
  },
  {
   "cell_type": "markdown",
   "metadata": {},
   "source": [
    "## Q3"
   ]
  },
  {
   "cell_type": "code",
   "execution_count": 64,
   "metadata": {},
   "outputs": [
    {
     "name": "stdout",
     "output_type": "stream",
     "text": [
      "Vandermonde matrix for N = 12: \n",
      " [[           1            1            1            1            1\n",
      "             1            1            1            1            1\n",
      "             1            1]\n",
      " [           1            2            3            4            5\n",
      "             6            7            8            9           10\n",
      "            11           12]\n",
      " [           1            4            9           16           25\n",
      "            36           49           64           81          100\n",
      "           121          144]\n",
      " [           1            8           27           64          125\n",
      "           216          343          512          729         1000\n",
      "          1331         1728]\n",
      " [           1           16           81          256          625\n",
      "          1296         2401         4096         6561        10000\n",
      "         14641        20736]\n",
      " [           1           32          243         1024         3125\n",
      "          7776        16807        32768        59049       100000\n",
      "        161051       248832]\n",
      " [           1           64          729         4096        15625\n",
      "         46656       117649       262144       531441      1000000\n",
      "       1771561      2985984]\n",
      " [           1          128         2187        16384        78125\n",
      "        279936       823543      2097152      4782969     10000000\n",
      "      19487171     35831808]\n",
      " [           1          256         6561        65536       390625\n",
      "       1679616      5764801     16777216     43046721    100000000\n",
      "     214358881    429981696]\n",
      " [           1          512        19683       262144      1953125\n",
      "      10077696     40353607    134217728    387420489   1000000000\n",
      "    2357947691   5159780352]\n",
      " [           1         1024        59049      1048576      9765625\n",
      "      60466176    282475249   1073741824   3486784401  10000000000\n",
      "   25937424601  61917364224]\n",
      " [           1         2048       177147      4194304     48828125\n",
      "     362797056   1977326743   8589934592  31381059609 100000000000\n",
      "  285311670611 743008370688]]\n"
     ]
    }
   ],
   "source": [
    "\"a) A Vandermonde matrix is a matrix generated from a vector in which each column of the matrix is an integer power starting from zero. So, if I have a column vector ,then the associated (square) Vandermonde matrix would be Use what you learned about broadcasting in the previous problem to write a function that will produce a Vandermonde matrix for a vector for any N. Do it without using a loop. Here’s a stub to get you started: def vandermonde (N):vec = np.arange (N) +1 #write your code here.Use your function for N = 12, store it in variable named vander, and print the result.\"\n",
    "\n",
    "def vandermonde(N):\n",
    "    vec = np.arange(N) + 1\n",
    "    return vec ** np.arange(N)[:, np.newaxis]\n",
    "van = vandermonde(12)\n",
    "print(\"Vandermonde matrix for N = 12: \\n\",van)"
   ]
  },
  {
   "cell_type": "code",
   "execution_count": 65,
   "metadata": {},
   "outputs": [
    {
     "name": "stdout",
     "output_type": "stream",
     "text": [
      "Vector b:  [1.20000000e+01 7.80000000e+01 6.50000000e+02 6.08400000e+03\n",
      " 6.07100000e+04 6.30708000e+05 6.73595000e+06 7.33994040e+07\n",
      " 8.12071910e+08 9.09203303e+09 1.02769131e+11 1.17068436e+12]\n"
     ]
    }
   ],
   "source": [
    "\"b) Now, let’s make a pretend linear system problem with this matrix. Create a vector of all ones, of length 12 and call it x. Perform a matrix-vector multiplication of vander with the vector you just created and store that in a new vector and call it b. Print the vector b.\"\n",
    "\n",
    "x = np.ones(12)\n",
    "b = np.dot(van, x)\n",
    "print(\"Vector b: \",b)"
   ]
  },
  {
   "cell_type": "code",
   "execution_count": 67,
   "metadata": {},
   "outputs": [
    {
     "name": "stdout",
     "output_type": "stream",
     "text": [
      "x_hat:  [1.40164465 0.59611278 1.00202715 1.00117254 0.9974848  1.00318933\n",
      " 0.99717116 1.00180864 0.99918208 1.00024882 0.99995425 1.00000385]\n",
      "\n",
      "The answer should be a vector of all ones, but due to floating point arithmetic, the values are not exactly 1, but very close to 1.\n"
     ]
    }
   ],
   "source": [
    "\"c) First, solve the linear system the naïve way, pretending like you don’t know x. Import numpy.linalg, invert V and multiply it by b. Print out your result. What should you get for your answer? If the answer is different than what you expected, write a sentence about that difference.\"\n",
    "\n",
    "from numpy.linalg import inv\n",
    "x_hat = np.dot(inv(van), b)\n",
    "print(\"x_hat: \",x_hat)\n",
    "print(\"\\nThe answer should be a vector of all ones, but due to floating point arithmetic, the values are not exactly 1, but very close to 1.\")"
   ]
  },
  {
   "cell_type": "code",
   "execution_count": 71,
   "metadata": {},
   "outputs": [
    {
     "name": "stdout",
     "output_type": "stream",
     "text": [
      "Linear System: \n",
      " [0.99997509 1.00022004 0.99910211 1.0022556  0.99613289 1.00472989\n",
      " 0.99580438 1.00269135 0.99877921 1.00037229 0.99993139 1.00000578]\n",
      "\n",
      "Yes, the result is more in line with what I'd expect.\n"
     ]
    }
   ],
   "source": [
    "\"d) Now, solve the same linear system using solve. Print out the result. Does it seem more or less in line with what you’d expect?\"\n",
    "\n",
    "linear_system = np.linalg.solve(van, b)\n",
    "print(\"Linear System: \\n\",linear_system)\n",
    "print(\"\\nYes, the result is more in line with what I'd expect.\")"
   ""https://github.com/MahboobAlam0/dstt-ass2_Mahboob_24-27-05""
   ]
  }
 ],
 "metadata": {
  "kernelspec": {
   "display_name": "Python 3",
   "language": "python",
   "name": "python3"
  },
  "language_info": {
   "codemirror_mode": {
    "name": "ipython",
    "version": 3
   },
   "file_extension": ".py",
   "mimetype": "text/x-python",
   "name": "python",
   "nbconvert_exporter": "python",
   "pygments_lexer": "ipython3",
   "version": "3.12.7"
  }
 },
 "nbformat": 4,
 "nbformat_minor": 2
}
